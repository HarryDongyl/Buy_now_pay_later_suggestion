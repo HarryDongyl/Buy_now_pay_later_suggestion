{
 "cells": [
  {
   "cell_type": "markdown",
   "metadata": {},
   "source": [
    "# 5. Geospatial Analysis"
   ]
  },
  {
   "cell_type": "code",
   "execution_count": null,
   "metadata": {},
   "outputs": [],
   "source": [
    "import pandas as pd\n",
    "import folium\n",
    "import geopandas as gpd\n",
    "import matplotlib.pyplot as plt"
   ]
  },
  {
   "cell_type": "code",
   "execution_count": null,
   "metadata": {},
   "outputs": [],
   "source": [
    "# Load the shapefile\n",
    "POA_data = gpd.read_file('../data/external/POA_2021_AUST_GDA2020_SHP')\n",
    "print(POA_data.head())"
   ]
  },
  {
   "cell_type": "code",
   "execution_count": 3,
   "metadata": {},
   "outputs": [],
   "source": [
    "income_per_postcode = pd.read_csv('../data/external/income_per_postcode.csv')"
   ]
  },
  {
   "cell_type": "markdown",
   "metadata": {},
   "source": [
    "### 5.1 Process of external dataset "
   ]
  },
  {
   "cell_type": "code",
   "execution_count": 4,
   "metadata": {},
   "outputs": [],
   "source": [
    "income_per_postcode['Average taxable income or loss'] = income_per_postcode['Average taxable income or loss'].str.replace(',', '').astype(int)\n",
    "income_per_postcode['Postcode'] = income_per_postcode['Postcode'].astype(str)\n",
    "income_per_postcode = income_per_postcode[['Postcode', 'Average taxable income or loss']]"
   ]
  },
  {
   "cell_type": "code",
   "execution_count": 5,
   "metadata": {},
   "outputs": [],
   "source": [
    "POA_data['POA_CODE21'] = POA_data['POA_CODE21'].astype(str)"
   ]
  },
  {
   "cell_type": "code",
   "execution_count": null,
   "metadata": {},
   "outputs": [],
   "source": [
    "income_per_postcode"
   ]
  },
  {
   "cell_type": "markdown",
   "metadata": {},
   "source": [
    "### 5.2 Data visualization by postcode"
   ]
  },
  {
   "cell_type": "code",
   "execution_count": null,
   "metadata": {},
   "outputs": [],
   "source": [
    "# Connect the document \n",
    "merged_data = POA_data.merge(income_per_postcode, left_on='POA_CODE21', right_on='Postcode')\n",
    "\n",
    "# convert the dollar value into per thousand unit \n",
    "merged_data['Average taxable income or loss'] = merged_data['Average taxable income or loss'].astype(float) / 1000\n",
    "\n",
    "# create map \n",
    "m = folium.Map(location=[-25.2744, 133.7751], zoom_start=4)\n",
    "\n",
    "# add to folium\n",
    "folium.Choropleth(\n",
    "    geo_data=merged_data,\n",
    "    name='choropleth',\n",
    "    data=merged_data,\n",
    "    columns=['Postcode', 'Average taxable income or loss'],\n",
    "    key_on='feature.properties.Postcode',\n",
    "    fill_color='OrRd',\n",
    "    fill_opacity=0.7,\n",
    "    line_opacity=0.2,\n",
    "    legend_name='Average Income (Thousands AUD)'\n",
    ").add_to(m)\n",
    "\n",
    "\n",
    "folium.LayerControl().add_to(m)\n",
    "\n",
    "# show map\n",
    "m"
   ]
  },
  {
   "cell_type": "code",
   "execution_count": 8,
   "metadata": {},
   "outputs": [],
   "source": [
    "data = pd.read_csv('../data/curated/external/dollar_amount_per_postcode.csv')"
   ]
  },
  {
   "cell_type": "markdown",
   "metadata": {},
   "source": [
    "### 5.3 Data visualization by SA2"
   ]
  },
  {
   "cell_type": "code",
   "execution_count": null,
   "metadata": {},
   "outputs": [],
   "source": [
    "# Convert both columns to string\n",
    "POA_data['POA_CODE21'] = POA_data['POA_CODE21'].astype(str)\n",
    "data['postcode'] = data['postcode'].astype(str)\n",
    "\n",
    "# Now, try merging again\n",
    "merged_data = POA_data.merge(data, left_on='POA_CODE21', right_on='postcode')\n",
    "fig, ax = plt.subplots(figsize=(15,15))\n",
    "merged_data.plot(column='dollar_value', legend=True, ax=ax, cmap='OrRd', edgecolor=\"k\", linewidth=0.2)\n",
    "ax.set_title(\"Dollar Value by Postcode\")\n",
    "plt.show() "
   ]
  },
  {
   "cell_type": "code",
   "execution_count": null,
   "metadata": {},
   "outputs": [],
   "source": [
    "# Convert your merged data back to a GeoDataFrame\n",
    "gdf = gpd.GeoDataFrame(merged_data, geometry='geometry')\n",
    "\n",
    "# Create a folium map object\n",
    "m = folium.Map(\n",
    "    location=[-25.2744, 133.7751],  # This centers the map to Australia\n",
    "    tiles='CartoDB positron',\n",
    "    zoom_start=5\n",
    ")\n",
    "\n",
    "# Add the choropleth layer\n",
    "folium.Choropleth(\n",
    "    geo_data=gdf,\n",
    "    name=\"choropleth\",\n",
    "    data=gdf,\n",
    "    columns=[\"POA_CODE21\", \"dollar_value\"],\n",
    "    key_on=\"feature.properties.POA_CODE21\",\n",
    "    fill_color=\"OrRd\",\n",
    "    fill_opacity=0.7,\n",
    "    line_opacity=0.2,\n",
    "    legend_name=\"Total Dollar Value by Postcode\"\n",
    ").add_to(m)\n",
    "\n",
    "# Add layer control to turn choropleth on or off (useful if you have other layers)\n",
    "folium.LayerControl().add_to(m)\n",
    "\n",
    "# Show the map\n",
    "m"
   ]
  }
 ],
 "metadata": {
  "kernelspec": {
   "display_name": "base",
   "language": "python",
   "name": "python3"
  },
  "language_info": {
   "codemirror_mode": {
    "name": "ipython",
    "version": 3
   },
   "file_extension": ".py",
   "mimetype": "text/x-python",
   "name": "python",
   "nbconvert_exporter": "python",
   "pygments_lexer": "ipython3",
   "version": "3.9.13"
  },
  "orig_nbformat": 4
 },
 "nbformat": 4,
 "nbformat_minor": 2
}
