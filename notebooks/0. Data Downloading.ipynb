{
 "cells": [
  {
   "cell_type": "markdown",
   "metadata": {},
   "source": [
    "# 0. Path create and data dowload"
   ]
  },
  {
   "cell_type": "markdown",
   "metadata": {},
   "source": [
    "### 0.1 Create file path "
   ]
  },
  {
   "cell_type": "code",
   "execution_count": 2,
   "metadata": {},
   "outputs": [],
   "source": [
    "from urllib.request import urlretrieve \n",
    "import os\n",
    "import requests"
   ]
  },
  {
   "cell_type": "code",
   "execution_count": 3,
   "metadata": {},
   "outputs": [],
   "source": [
    "# create data path at level 1\n",
    "output_relative_dir = f'../data/'\n",
    "if not os.path.exists(output_relative_dir):\n",
    "    os.makedirs(output_relative_dir)\n",
    "for type in ['external', 'curated', 'predicted']:\n",
    "    path = output_relative_dir + type \n",
    "    if not os.path.exists(path):\n",
    "        os.makedirs(path)"
   ]
  },
  {
   "cell_type": "code",
   "execution_count": 4,
   "metadata": {},
   "outputs": [],
   "source": [
    "# create data path at level 2\n",
    "output_relative_dir = f'../data/'\n",
    "if not os.path.exists(output_relative_dir):\n",
    "    os.makedirs(output_relative_dir)\n",
    "for type in ['final result']:\n",
    "    path = output_relative_dir + type \n",
    "    if not os.path.exists(path):\n",
    "        os.makedirs(path)"
   ]
  },
  {
   "cell_type": "code",
   "execution_count": 3,
   "metadata": {},
   "outputs": [],
   "source": [
    "# create data path at level 2\n",
    "output_relative_dir = f'../data/curated/'\n",
    "if not os.path.exists(output_relative_dir):\n",
    "    os.makedirs(output_relative_dir)\n",
    "for type in ['train', 'test']:\n",
    "    path = output_relative_dir + type \n",
    "    if not os.path.exists(path):\n",
    "        os.makedirs(path)"
   ]
  },
  {
   "cell_type": "code",
   "execution_count": 4,
   "metadata": {},
   "outputs": [],
   "source": [
    "# create data path at level 2\n",
    "output_relative_dir = f'../data/curated/'\n",
    "if not os.path.exists(output_relative_dir):\n",
    "    os.makedirs(output_relative_dir)\n",
    "for type in ['transaction', 'consumer', 'merchant', 'external']:\n",
    "    path = output_relative_dir + type \n",
    "    if not os.path.exists(path):\n",
    "        os.makedirs(path)"
   ]
  },
  {
   "cell_type": "markdown",
   "metadata": {},
   "source": [
    "### 0.2 Data download"
   ]
  },
  {
   "cell_type": "code",
   "execution_count": 5,
   "metadata": {},
   "outputs": [
    {
     "name": "stdout",
     "output_type": "stream",
     "text": [
      "saving to /Users/yulindong/Documents/GitHub/bnpl-industry-project-open-source-industry-project-1/data/external/income_per_postcode.csv\n"
     ]
    }
   ],
   "source": [
    "def download_file(url, dest_folder, dest_filename):\n",
    "    '''\n",
    "    Download a file from url and save it to dest_folder/dest_filename\n",
    "    :param url: URL to download from\n",
    "    :type url: str\n",
    "    :param dest_folder: Destination folder\n",
    "    :type dest_folder: str\n",
    "    :param dest_filename: Destination filename\n",
    "    :type dest_filename: str\n",
    "    :return: None\n",
    "    '''\n",
    "    if not os.path.exists(dest_folder):\n",
    "        os.makedirs(dest_folder)  # create folder if it does not exist\n",
    "\n",
    "    filename = os.path.join(dest_folder, dest_filename)  # specify the desired filename\n",
    "    r = requests.get(url, stream=True)\n",
    "    if r.ok:\n",
    "        print(\"saving to\", os.path.abspath(filename))\n",
    "        with open(filename, 'wb') as f:\n",
    "            for chunk in r.iter_content(chunk_size=1024 * 8):  # 8KB chunks\n",
    "                if chunk:\n",
    "                    f.write(chunk)\n",
    "                    f.flush()\n",
    "                    os.fsync(f.fileno())\n",
    "    else:  # HTTP status code 4XX/5XX\n",
    "        print(\"Download failed: status code {}\\n{}\".format(r.status_code, r.text))\n",
    "\n",
    "url = \"https://data.gov.au/data/dataset/07b51b39-254a-4177-8b4c-497f17eddb80/resource/4c410c85-2058-4ebc-8200-5be678eee767/download/ts21individual25countaveragemedianbypostcode.csv\"\n",
    "dest_folder = '../data/external'\n",
    "dest_filename = \"income_per_postcode.csv\"\n",
    "\n",
    "download_file(url, dest_folder, dest_filename)"
   ]
  }
 ],
 "metadata": {
  "kernelspec": {
   "display_name": "Python 3",
   "language": "python",
   "name": "python3"
  },
  "language_info": {
   "codemirror_mode": {
    "name": "ipython",
    "version": 3
   },
   "file_extension": ".py",
   "mimetype": "text/x-python",
   "name": "python",
   "nbconvert_exporter": "python",
   "pygments_lexer": "ipython3",
   "version": "3.9.13"
  },
  "orig_nbformat": 4
 },
 "nbformat": 4,
 "nbformat_minor": 2
}
